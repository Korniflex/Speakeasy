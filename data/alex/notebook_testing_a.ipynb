{
 "cells": [
  {
   "cell_type": "markdown",
   "metadata": {},
   "source": [
    "Imports\n",
    "\n",
    "viele von diese Bibliotheken muessen mit pip intalliert werden.\n",
    "\n",
    "wenn einige nicht funktionnieren, kann die Installation im Terminal mit folgendes ausprobiert werden :\n",
    "\n",
    "conda install 'bibliotheke'\n",
    "\n",
    "python3 -m pip install 'bibliotheke'"
   ]
  },
  {
   "cell_type": "code",
   "execution_count": 13,
   "metadata": {},
   "outputs": [],
   "source": [
    "import tkinter as tk\n",
    "from PIL import Image, ImageTk \n",
    "from tkinter import filedialog, messagebox  #messagebox wird jetzt noch nicht benutzt \n",
    "from tkinter import PhotoImage\n",
    "import pandas as pd\n",
    "import PyPDF2                                  # \n",
    "import pytesseract\n",
    "pytesseract.pytesseract.tesseract_cmd =\"C:\\\\Program Files\\\\Tesseract-OCR\\\\tesseract.exe\"\n",
    "from docx import Document   \n",
    "import os\n",
    "import openpyxl\n"
   ]
  },
  {
   "cell_type": "markdown",
   "metadata": {},
   "source": [
    "Tkinter Hauptfenster"
   ]
  },
  {
   "cell_type": "code",
   "execution_count": 14,
   "metadata": {},
   "outputs": [],
   "source": [
    "# Wir stellen den Root Fenster an\n",
    "root = tk.Tk()                                                                  # Funktion die unser Hauptfenster erstellt\n",
    "root.geometry(\"550x300\")                                                        # wir definieren die groeße des Fensters\n",
    "root.title(\"Speakeasy v0.1\")                                                    # Wir definieren den Titel\n",
    "root.resizable(width=True, height=True)                                         # Wir setzten eine dynamische Groeße ein : wenn wir ein großes Bild z.B zufuegen, wir das Fenster automatisch angepasst.\n",
    "\n",
    "# Wir laden unser Speakeasy Logo !\n",
    "logo_path = r\"C:\\Users\\Admin\\Desktop\\Speakeasy\\data\\logo_Speakeasy_1080p.png\"       # right clic, \"copy Path\", als string eingeben, tada.\n",
    "logo = Image.open(logo_path)                                                        # Wir benutzen die Bibliothek PIL um den Bild zu oeffnen\n",
    "logo = logo.resize((200, 200))                                                      # Wir skalieren das importierte bild mit .resize((length, width)) doppel Klammer !\n",
    "global_logo = ImageTk.PhotoImage(logo)                                              # Wir konvertieren unser durch Pillow (PIL) geaendertes Bild in einen Format der von Tkinter uebernommen werden kann mit PhotoImage() \n",
    "\n",
    "\n",
    "# Herstekkung des Label, um das Bild anzeigen zu koennen.\n",
    "label = tk.Label(root,                                                                                              # Wir setzten den Laben auf unser Hauptfenster\n",
    "                 text='Willkommen bei Speakeasy.\\nBitte wählen Sie eine Datei aus, um den Text zu extrahieren',     # Wir sind gut erzogen, sagen Hallo und wie wir behelflich sein koennen.\n",
    "                 image=global_logo, \n",
    "                 compound='top')\n",
    "label.pack(anchor=tk.CENTER)                                                                                        # Wir Positionnieren unser Label in der Mitte\n",
    "\n"
   ]
  },
  {
   "cell_type": "markdown",
   "metadata": {},
   "source": [
    "Funktionen, die die verschiedene Dataien oeffnen:\n",
    "\n",
    "\"Wir stellen Schlusseln her, die Tueren offnen konnen\""
   ]
  },
  {
   "cell_type": "code",
   "execution_count": 15,
   "metadata": {},
   "outputs": [],
   "source": [
    "# Funktion, um Excel-Dateien zu lesen (https://statisquo.de/2019/01/14/excel-dateien-in-python-importieren-mit-pandas/)\n",
    "\n",
    "def read_excel(file_path):\n",
    "    try:\n",
    "        df = pd.read_excel(file_path)                       # .read_excel liest Excel-Dateien\n",
    "        return df.to_string()                               # Wandelt Inhalt in String um\n",
    "    except Exception as e:                                  # 'Exception as e' fängt Fehler ab. e = Variable für Fehler \n",
    "        print(f'Fehler beim Lesen der Excel-Datei: {e}')    # Fehlermeldung (Später als Messagebox)\n",
    "        return None                                         # Bei Fehler Ende der Funktion\n",
    "\n",
    "\n"
   ]
  },
  {
   "cell_type": "code",
   "execution_count": 16,
   "metadata": {},
   "outputs": [],
   "source": [
    "# Funktion, um Word-Dokumente zu lesen (https://python-docx.readthedocs.io/en/latest/)\n",
    "\n",
    "def read_word(file_path):\n",
    "    try:\n",
    "        document = Document(file_path)                      # 'Document' ist eine Klasse aus der Library um Word-Dokumente zu laden (neben den Imports schon beschrieben, aber safety first)\n",
    "        text = []                                           # Leere Liste die den Text später speichert, um die Textstruktur beizubehalten. Also die Absätze zum Beispiel\n",
    "        for paragraph in document.paragraphs:               # Geht alle Absätze durch und sorgt dafür, dass jeder Absatz als 'paragraph' gespeichert wird\n",
    "            text.append(paragraph.text)                     # Jeder Textinhalt eines Absatzes wird in die Liste 'text' eingefügt \n",
    "        return \"\\n\".join(text)                              # Gibt den kompletten Text als String zurück und Zeilenumbruch für Absätze \n",
    "    except Exception as e:\n",
    "        print(f'Fehler beim Lesen des Word-Dokuments: {e}')\n",
    "        return None"
   ]
  },
  {
   "cell_type": "code",
   "execution_count": 17,
   "metadata": {},
   "outputs": [],
   "source": [
    "# Funktion um CSV-Dateien zu lesen (Keine Quelle. Excel-Funtkion kopiert)\n",
    "\n",
    "def read_csv(file_path):\n",
    "    try:\n",
    "        df = pd.read_csv(file_path)                     # .read_csv liest CSV-Dateien\n",
    "        return df.to_string()                           # Wandelt Inhalt in einen String um\n",
    "    except Exception as e:\n",
    "        print(f'Fehler beim Lesen der CSV-Datei: {e}')  \n",
    "        return None\n"
   ]
  },
  {
   "cell_type": "code",
   "execution_count": 18,
   "metadata": {},
   "outputs": [],
   "source": [
    "# Funktion um Text-Dateien zu lesen (https://guides.library.upenn.edu/penntdm/python/import_files#:~:text=In%20Python%2C%20you%20can%20use,and%20the%20file%20access%20mode.)\n",
    "################################### (https://www.python-lernen.de/dateien-auslesen.htm)\n",
    "\n",
    "def read_txt(file_path):                                        # Die Funtkion funktioniert ohne Imports \n",
    "    try:\n",
    "        with open(file_path, 'r') as file:                      # Später testen ob 'r' oder 'r+' benötigt wird\n",
    "            text = file.read()                                  # Liest den gesamten Text aus der Datei\n",
    "        return text\n",
    "    except Exception as e:\n",
    "        print(f'Fehler beim Lesen der Textdatei: {e}')          # Fehlermeldung bei einem Fehler\n",
    "        return None\n"
   ]
  },
  {
   "cell_type": "code",
   "execution_count": 19,
   "metadata": {},
   "outputs": [],
   "source": [
    "#Funktion um den text eines PDF zu extraieren   \n",
    "\n",
    "def read_pdf(file_path):\n",
    "    \"\"\"\n",
    "    Öffnet eine PDF-Datei, extrahiert den Text und gibt ihn zurück.\n",
    "\n",
    "    Funktionalität:\n",
    "    - Wählt eine PDF-Datei mit einem Dateidialog aus.\n",
    "    - Extrahiert den gesamten Text aus der PDF-Datei.\n",
    "    - Gibt den extrahierten Text zurück oder zeigt eine Fehlermeldung, falls ein Fehler auftritt.\n",
    "    \"\"\"\n",
    "    try:\n",
    "        # Öffne den Dateidialog, um eine PDF-Datei auszuwählen\n",
    "        if file_path:\n",
    "            # Öffne die PDF-Datei\n",
    "            with open(file_path, \"rb\") as file:\n",
    "                reader = PyPDF2.PdfReader(file)\n",
    "                text = \"\"\n",
    "\n",
    "                # Iteriere über alle Seiten der PDF und extrahiere den Text\n",
    "                for page_num in range(len(reader.pages)):\n",
    "                    page = reader.pages[page_num]\n",
    "                    text += page.extract_text()\n",
    "\n",
    "                return text\n",
    "        else:\n",
    "            print(\"Keine Datei ausgewählt.\")\n",
    "            return None\n",
    "\n",
    "    except Exception as e:\n",
    "        print(f\"Fehler beim Extrahieren des Textes aus der PDF: {e}\")\n",
    "        return None\n"
   ]
  },
  {
   "cell_type": "code",
   "execution_count": 20,
   "metadata": {},
   "outputs": [],
   "source": [
    "# https://pyimagesearch.com/2021/08/23/your-first-ocr-project-with-tesseract-and-python/\n",
    "def read_image(file_path):\n",
    "    \"\"\"\n",
    "    Öffnet eine Bilddatei und extrahiert den Text mit OCR.\n",
    "\n",
    "    Funktionalität:\n",
    "    - Wählt eine Bilddatei (.jpeg, .png, etc.) mit einem Dateidialog aus.                           \n",
    "    - Verwendet Tesseract OCR, um den Text im Bild zu extrahieren.\n",
    "    - Gibt den extrahierten Text zurück oder zeigt eine Fehlermeldung, falls ein Fehler auftritt.\n",
    "    \"\"\"\n",
    "    try:\n",
    "        # Öffne den Dateidialog, um eine Bilddatei auszuwählen\n",
    "\n",
    "        if file_path:\n",
    "            # Öffne das Bild mit Pillow\n",
    "            img = Image.open(file_path)\n",
    "\n",
    "            # Verwende Tesseract OCR, um den Text zu extrahieren\n",
    "            text = pytesseract.image_to_string(img)\n",
    "\n",
    "            return text\n",
    "        else:\n",
    "            print(\"Keine Datei ausgewählt.\")\n",
    "            return None\n",
    "\n",
    "    except Exception as e:\n",
    "        print(f\"Fehler beim Extrahieren des Textes aus dem Bild: {e}\")\n",
    "        return None"
   ]
  },
  {
   "cell_type": "markdown",
   "metadata": {},
   "source": [
    "Wir brauchen drei Funktionen :\n",
    "1. Open_file -> Befehlt um den file_path zu generieren um auf der Datei zu greifen\n",
    "2. Read_file -> Befehlt um auf die Datei zu greifen und extrahieren.\n",
    "3. Save_txt -> die extrahierte Datei in einen .txt zu speichern"
   ]
  },
  {
   "cell_type": "markdown",
   "metadata": {},
   "source": [
    "Funktion die die Datei erkennt, und auf der richtige Funktion zugreift, um die Datei zu oeffnen.\n",
    "\n",
    "\"Wir definiren, welche Tueren mit welchen Schlueßel geoffnet werden konnen.\""
   ]
  },
  {
   "cell_type": "code",
   "execution_count": null,
   "metadata": {},
   "outputs": [],
   "source": [
    "def open_file():\n",
    "    # Öffnet ein Dateiauswahl-Dialogfeld und gibt den Pfad der ausgewählten Datei zurück\n",
    "    file_types = [\n",
    "            (\"Alle unterstützten Dateien\", \"*.xlsx;*.docx;*.txt;*.csv;*.pdf;*.jpg;*.jpeg;*.png;*.gif\"),\n",
    "            (\"Excel-Dateien\", \"*.xlsx\"),\n",
    "            (\"Word-Dokumente\", \"*.docx\"),\n",
    "            (\"Text-Dateien\", \"*.txt\"),\n",
    "            (\"CSV-Dateien\", \"*.csv\"),\n",
    "            (\"PDF-Dateien\", \"*.pdf\"),\n",
    "            (\"Bild-Dateien\", \"*.jpg;*.jpeg;*.png;*.gif\")\n",
    "        ]\n",
    "    file_path = filedialog.askopenfilename(filetypes=file_types)\n",
    "\n",
    "    if file_path:                                       # wenn wir im folderfinder unsere Datei ausgewaehlt haben:\n",
    "        print(f\"Offnung des Datei-pfads: {file_path}\")  # Zeigt der Terminal den ausgewählten Dateipfad an\n",
    "        text = read_file(file_path)                     # ruft die Funktion read_file() die unten definiert ist\n",
    "                                                        # read_file() extraiert den text der Datei in eine Variabel 'text'\n",
    "\n",
    "        if text:        \n",
    "            save_to_text(text)                          # ruft die Funktion save_to_text() die wir unten definiert haben,\n",
    "                                                        # sobald die Variabel text definiert wird.\n",
    "    else:\n",
    "        print(\"Offnung der Datei.\")                # Damit der Programm nicht spinnt haben wir hier ein text,\n",
    "    return file_path"
   ]
  },
  {
   "cell_type": "code",
   "execution_count": 22,
   "metadata": {},
   "outputs": [],
   "source": [
    "# Funktion um Dateiformat zu lesen\n",
    "\n",
    "def read_file(file_path):               # Wir koennen jetzt die Datei offnen. Nun wollen wir den Inhalt lesen und den Text extraieren.                    \n",
    "    if not file_path:                   # Wieder eine Fehlermeldungoption falls der Programm spinnt, dann wissen wir wo.\n",
    "        print('Keine Datei gefunden')   \n",
    "        return None\n",
    "    \n",
    "    file_selection = os.path.splitext(file_path)[1].lower()     # Trennt die Dateiendung vom Dateinamen\n",
    "    \n",
    "\n",
    "    readers = {                 # Erstellung eines dict fuer eine bessere Lesbarkeit,\n",
    "    '.xlsx': read_excel,        # die die verschiedenen Funktionen die wir hoher haben mit\n",
    "    '.docx': read_word,         # den richtigen Dateitypen linked. Geil oder?\n",
    "    '.txt': read_txt,\n",
    "    '.csv': read_csv,\n",
    "    '.pdf': read_pdf,\n",
    "    '.jpg': read_image,\n",
    "    '.jpeg': read_image,\n",
    "    '.png': read_image,\n",
    "    '.gif': read_image\n",
    "\n",
    "    }\n",
    "    if file_selection in readers:                       # Wir legen die Beschraenkung, die die Funktionen ausfuehrt\n",
    "        print(f\" Zugriff auf der read Funktion : {readers}\")       # Wir geben hier  den Dateipfad aus\n",
    "        text = readers[file_selection](file_path)       # Wir setzen eine Variabel text = machen ein Slicing unsere readers (Funktionen) mit unserer file_selection\n",
    "                                                        # Wit fuehren also nur die Funktion die die alsgefilterte Dateiendung hat\n",
    "                                                        \n",
    "        if text:                                       \n",
    "            print(f\"Extraktes Text: {text[:200]}...\")  # Zeigt die 200 Zeichen\n",
    "        return text\n",
    "    \n",
    "    else:\n",
    "        print('Dateiformat wird nicht unterstützt.')    # wieder ein Fehlermedlung damit wir besser rausfinden koennen,                                                  \n",
    "        return None                                     # wieso der Programm nicht ausgefuehrt werden kann"
   ]
  },
  {
   "cell_type": "code",
   "execution_count": 23,
   "metadata": {},
   "outputs": [],
   "source": [
    "# Funktion um den extrahierten Text zu speichern\n",
    "\n",
    "def save_to_text(text, output_file= 'extracted.txt'):                   # Neue Funktion die ein 'extracted.txt' erstellen muss\n",
    "    try:\n",
    "        with open(output_file, 'w', encoding=\"utf-8\") as file:          # wir oeffnen eine Datei mit der Funktion write ('w'), akzeptieren alle Sonderzeichen mit \"utf-8\" \n",
    "            file.write(text)                                            # wir pasten den text der Variabel text in diesem file\n",
    "            print(f\"Text erfolgreich gespeichert in {output_file}\")     # Wir geben noch ein bestaetigungsnachricht aus.\n",
    "    except Exception as e:\n",
    "        print(f\"Fehler beim Speichern der Datei: {e}\")                  # Fehlermeldung\n"
   ]
  },
  {
   "cell_type": "code",
   "execution_count": 24,
   "metadata": {},
   "outputs": [
    {
     "name": "stdout",
     "output_type": "stream",
     "text": [
      "Ausgewählter Datei-Pfad: C:/Users/Admin/Downloads/image (1).png\n",
      " Zugriff auf der read Funktion : {'.xlsx': <function read_excel at 0x000001F807B5FB80>, '.docx': <function read_word at 0x000001F826AC0CA0>, '.txt': <function read_txt at 0x000001F826AC05E0>, '.csv': <function read_csv at 0x000001F807BB4040>, '.pdf': <function read_pdf at 0x000001F826AC0A60>, '.jpg': <function read_image at 0x000001F826AC0E50>, '.jpeg': <function read_image at 0x000001F826AC0E50>, '.png': <function read_image at 0x000001F826AC0E50>, '.gif': <function read_image at 0x000001F826AC0E50>}\n",
      "Offnung des Datei-pfads\n"
     ]
    }
   ],
   "source": [
    "  # Button zur Auswahl einer Datei\n",
    "button = tk.Button(root, text=\"Datei auswählen\", command=open_file) #kein Bock meeeeehr\n",
    "button.pack(pady=20)\n",
    "\n",
    "# Tkinter-Hauptloop starten\n",
    "root.mainloop()  \n",
    "\n",
    "\n",
    "# TO DO :\n",
    "# codeslinien eingeben um die "
   ]
  },
  {
   "cell_type": "markdown",
   "metadata": {},
   "source": [
    "Import file button\n",
    "\n",
    "https://www.geeksforgeeks.org/create-an-import-file-button-with-tkinter/?ref=header_outind"
   ]
  },
  {
   "cell_type": "markdown",
   "metadata": {},
   "source": [
    "File explorer :\n",
    "https://www.geeksforgeeks.org/file-explorer-in-python-using-tkinter/?ref=header_outind"
   ]
  },
  {
   "cell_type": "markdown",
   "metadata": {},
   "source": [
    "text to speech :\n",
    "https://www.geeksforgeeks.org/text-to-speech-gui-convertor-using-tkinter-in-python/?ref=header_outind\n"
   ]
  }
 ],
 "metadata": {
  "kernelspec": {
   "display_name": "Python 3",
   "language": "python",
   "name": "python3"
  },
  "language_info": {
   "codemirror_mode": {
    "name": "ipython",
    "version": 3
   },
   "file_extension": ".py",
   "mimetype": "text/x-python",
   "name": "python",
   "nbconvert_exporter": "python",
   "pygments_lexer": "ipython3",
   "version": "3.9.13"
  }
 },
 "nbformat": 4,
 "nbformat_minor": 2
}
